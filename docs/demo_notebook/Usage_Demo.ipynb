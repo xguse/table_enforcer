{
 "cells": [
  {
   "cell_type": "markdown",
   "metadata": {},
   "source": [
    "# Table Enforcer Demo\n",
    "\n",
    "## Description\n",
    "\n",
    "\n",
    "A python package to facilitate the iterative process of developing and using schema-like representations of DataFrames in pandas for recoding and validating instances of these data.\n",
    "\n",
    "This is a very young attempt at solving a recurrent problem many people have.  So far I have looked at multiple solutions, but none really did it for me.\n",
    "\n",
    "I need to load, recode, and validate tables all day everyday. Sometimes its simple; you can ``pandas.read_table()`` and all is good. But sometimes you have a 400 column long RedCap data dump that is complicated `af` and you need to develop your recoding logic through an iterative process.\n",
    "\n",
    "This is an attempt to apply a sort of \"test driven development\" approach to data cleaning.\n",
    "\n",
    "\n",
    "## Basic Workflow\n",
    "\n",
    "1. For each column that you care about in your source table:\n",
    "    1. Define a ``Column`` object that represents the ideal state of your data by passing a list of small, independent, reusable validator functions and some descriptive information.\n",
    "    1. Use this object to validate the column data from your source table.\n",
    "        - It **WILL** fail.\n",
    "    1. Add small, composable, reusable recoding functions to the column object and iterate until your validations pass.\n",
    "1. Define an ``Enforcer`` object by passing it a list of your column representation objects.\n",
    "1. This enforcer can be used to recode or validate recoded tables of the same kind as your source table wherever your applications use that type of data.\n",
    "\n",
    "\n",
    "## Near Future\n",
    "Soon, I want to add more kinds of ``Column`` objects that implement one-to-many and many-to-one recoding logic as sometimes a column tries to do too much and should really be multiple columns as well as the reverse.\n",
    "\n",
    "\n",
    "## Help\n",
    "Please take a look and offer thoughts/advice.\n",
    "\n",
    "https://github.com/xguse/table_enforcer\n",
    "\n",
    "\n",
    "* Free software: MIT license\n",
    "* Documentation: https://table-enforcer.readthedocs.io."
   ]
  },
  {
   "cell_type": "markdown",
   "metadata": {},
   "source": [
    "# Imports"
   ]
  },
  {
   "cell_type": "code",
   "execution_count": 1,
   "metadata": {
    "ExecuteTime": {
     "end_time": "2017-11-17T14:46:43.932504Z",
     "start_time": "2017-11-17T14:46:43.919014Z"
    }
   },
   "outputs": [],
   "source": [
    "%load_ext autoreload\n",
    "%autoreload 2"
   ]
  },
  {
   "cell_type": "code",
   "execution_count": 2,
   "metadata": {
    "ExecuteTime": {
     "end_time": "2017-11-17T14:46:44.312318Z",
     "start_time": "2017-11-17T14:46:43.934090Z"
    }
   },
   "outputs": [],
   "source": [
    "import pandas as pd\n",
    "import numpy as np\n",
    "\n",
    "from table_enforcer import Enforcer, Column\n",
    "import table_enforcer.errors as e\n",
    "\n",
    "from table_enforcer import validate as v\n",
    "from table_enforcer import recode as r"
   ]
  },
  {
   "cell_type": "markdown",
   "metadata": {},
   "source": [
    "# Load or create your Table"
   ]
  },
  {
   "cell_type": "code",
   "execution_count": 3,
   "metadata": {
    "ExecuteTime": {
     "end_time": "2017-11-17T14:46:44.398974Z",
     "start_time": "2017-11-17T14:46:44.317779Z"
    }
   },
   "outputs": [
    {
     "data": {
      "text/html": [
       "<div>\n",
       "<style scoped>\n",
       "    .dataframe tbody tr th:only-of-type {\n",
       "        vertical-align: middle;\n",
       "    }\n",
       "\n",
       "    .dataframe tbody tr th {\n",
       "        vertical-align: top;\n",
       "    }\n",
       "\n",
       "    .dataframe thead th {\n",
       "        text-align: right;\n",
       "    }\n",
       "</style>\n",
       "<table border=\"1\" class=\"dataframe\">\n",
       "  <thead>\n",
       "    <tr style=\"text-align: right;\">\n",
       "      <th></th>\n",
       "      <th>col1</th>\n",
       "      <th>col2</th>\n",
       "      <th>col3</th>\n",
       "      <th>col4</th>\n",
       "    </tr>\n",
       "  </thead>\n",
       "  <tbody>\n",
       "    <tr>\n",
       "      <th>0</th>\n",
       "      <td>7</td>\n",
       "      <td>3</td>\n",
       "      <td>10</td>\n",
       "      <td>male</td>\n",
       "    </tr>\n",
       "    <tr>\n",
       "      <th>1</th>\n",
       "      <td>2</td>\n",
       "      <td>4</td>\n",
       "      <td>6</td>\n",
       "      <td>m</td>\n",
       "    </tr>\n",
       "    <tr>\n",
       "      <th>2</th>\n",
       "      <td>6</td>\n",
       "      <td>6</td>\n",
       "      <td>2</td>\n",
       "      <td>F</td>\n",
       "    </tr>\n",
       "  </tbody>\n",
       "</table>\n",
       "</div>"
      ],
      "text/plain": [
       "   col1  col2  col3  col4\n",
       "0     7     3    10  male\n",
       "1     2     4     6     m\n",
       "2     6     6     2     F"
      ]
     },
     "execution_count": 3,
     "metadata": {},
     "output_type": "execute_result"
    }
   ],
   "source": [
    "df = pd.read_csv(\"demo_table.csv\")\n",
    "df"
   ]
  },
  {
   "cell_type": "markdown",
   "metadata": {},
   "source": [
    "# Validator Functions"
   ]
  },
  {
   "cell_type": "markdown",
   "metadata": {},
   "source": [
    "## Built-in Validators\n",
    "\n",
    "Some validator functions come built-in (See the `table_enforcer/validate/funcs.py` module code for current list)"
   ]
  },
  {
   "cell_type": "code",
   "execution_count": 4,
   "metadata": {
    "ExecuteTime": {
     "end_time": "2017-11-17T14:46:44.774479Z",
     "start_time": "2017-11-17T14:46:44.641997Z"
    }
   },
   "outputs": [
    {
     "name": "stdout",
     "output_type": "stream",
     "text": [
      "\"\"\"Provide builtin validator functions for common use cases.\r\n",
      "\r\n",
      "In general, validators take a single `pandas.Series` object as\r\n",
      "input and return a `pandas.Series` of the same shape and indexes\r\n",
      "containing `True` or `False` relative to which items passed the\r\n",
      "validation logic.\r\n",
      "\"\"\"\r\n",
      "import pandas as pd\r\n",
      "# import numpy as np\r\n",
      "\r\n",
      "# from table_enforcer import errors as e\r\n",
      "# from table_enforcer.validate import decorators as dec\r\n",
      "\r\n",
      "\r\n",
      "def not_null(series: pd.Series) -> pd.Series:\r\n",
      "    \"\"\"Return Series with True/False bools based on which items pass.\"\"\"\r\n",
      "    return pd.notnull(series)\r\n",
      "\r\n",
      "\r\n",
      "def positive(series: pd.Series) -> pd.Series:\r\n",
      "    \"\"\"Test that the data items are positive.\"\"\"\r\n",
      "    return series > 0\r\n",
      "\r\n",
      "\r\n",
      "def negative(series: pd.Series) -> pd.Series:\r\n",
      "    \"\"\"Test that the data items are negative.\"\"\"\r\n",
      "    return series < 0\r\n",
      "\r\n",
      "\r\n",
      "def unique(series: pd.Series) -> pd.Series:\r\n",
      "    \"\"\"Test that the data items do not repeat.\"\"\"\r\n",
      "    return ~series.duplicated(keep=False)\r\n",
      "\r\n",
      "\r\n",
      "def upper(series):\r\n",
      "    \"\"\"Test that the data items are all uppercase.\"\"\"\r\n",
      "    return series.str.isupper()\r\n",
      "\r\n",
      "\r\n",
      "def lower(series):\r\n",
      "    \"\"\"Test that the data items are all lowercase.\"\"\"\r\n",
      "    return series.str.islower()\r\n"
     ]
    }
   ],
   "source": [
    "! cat $v.funcs.__file__"
   ]
  },
  {
   "cell_type": "markdown",
   "metadata": {},
   "source": [
    "## Validator Call Signatures\n",
    "\n",
    "In general, validators take a single `pandas.Series` object as input and return a `pandas.Series` of the same shape and indexes containing `True` or `False` relative to which items passed the validation logic. \n",
    "\n",
    "This changes a little if you are using a decorator like `@maxmin` (_See section on Decorating Validators_)\n",
    "\n"
   ]
  },
  {
   "cell_type": "markdown",
   "metadata": {},
   "source": [
    "## Writing Custom Validators"
   ]
  },
  {
   "cell_type": "code",
   "execution_count": 5,
   "metadata": {
    "ExecuteTime": {
     "end_time": "2017-11-17T14:46:44.941772Z",
     "start_time": "2017-11-17T14:46:44.920412Z"
    }
   },
   "outputs": [],
   "source": [
    "def gte2(series):\n",
    "    return series >= 2\n",
    "\n",
    "def lte10(series):\n",
    "    return series <= 10\n",
    "\n",
    "def length_is_one(series):\n",
    "    return series.str.len() == 1\n",
    "\n",
    "def valid_sex(series):\n",
    "    sex = set(['M', 'F'])\n",
    "    return series.isin(sex)"
   ]
  },
  {
   "cell_type": "markdown",
   "metadata": {},
   "source": [
    "## Decorating Validators\n",
    "You can define decorators that extend the call signature of validators to accomadate more complex things like ranges.\n",
    "\n",
    "Here we can define a single validator that accomplishes the same thing as the combination of the first two validators that we defined above:"
   ]
  },
  {
   "cell_type": "code",
   "execution_count": 6,
   "metadata": {
    "ExecuteTime": {
     "end_time": "2017-11-17T14:46:45.088877Z",
     "start_time": "2017-11-17T14:46:45.060467Z"
    }
   },
   "outputs": [],
   "source": [
    "@v.decorators.minmax(low=2, high=10)\n",
    "def bt_2_and_10(series):\n",
    "    \"\"\"Test that the data items fall within range: 2 <= x <= 10.\"\"\"\n",
    "    return series"
   ]
  },
  {
   "cell_type": "markdown",
   "metadata": {},
   "source": [
    "__Note:__ pay attention to the fact that here we return the __original__ series object. _We didn't do ANYTHING to it._ The testing gets done in the `@v.decorators.minmax` decorator function. This allows our validators to always expect a single argument at run-time and always return a single argument.  This is _very_ important.\n",
    "\n",
    "### Writing Custom Validator Decorators\n",
    "\n",
    "This is a bit beyond this demo's scope but here is the `table_enforcer/validate/decorators.py` code so that you can get an idea oh how to do it if you are brave."
   ]
  },
  {
   "cell_type": "code",
   "execution_count": 7,
   "metadata": {
    "ExecuteTime": {
     "end_time": "2017-11-17T14:46:45.337732Z",
     "start_time": "2017-11-17T14:46:45.211743Z"
    }
   },
   "outputs": [
    {
     "name": "stdout",
     "output_type": "stream",
     "text": [
      "\"\"\"Provide decoration functions to augment the behavior of validator functions.\"\"\"\r\n",
      "import functools\r\n",
      "\r\n",
      "import pandas as pd\r\n",
      "import numpy as np\r\n",
      "\r\n",
      "\r\n",
      "def minmax(low, high):\r\n",
      "    \"\"\"Test that the data items fall within range: low <= x <= high.\"\"\"\r\n",
      "    def decorator(function):\r\n",
      "        \"\"\"Decorate a function with args.\"\"\"\r\n",
      "        @functools.wraps(function)\r\n",
      "        def wrapper(*args, **kwargs):\r\n",
      "            \"\"\"Wrap the function.\"\"\"\r\n",
      "            series = function(*args, **kwargs)\r\n",
      "            lo_pass = low <= series\r\n",
      "            hi_pass = series <= high\r\n",
      "\r\n",
      "            return lo_pass & hi_pass\r\n",
      "\r\n",
      "        return wrapper\r\n",
      "\r\n",
      "    return decorator\r\n",
      "\r\n",
      "\r\n",
      "def choice(choices):\r\n",
      "    \"\"\"Test that the data items are members of the set `choices`.\"\"\"\r\n",
      "    def decorator(function):\r\n",
      "        \"\"\"Decorate a function with args.\"\"\"\r\n",
      "        @functools.wraps(function)\r\n",
      "        def wrapper(*args, **kwargs):\r\n",
      "            \"\"\"Wrap the function.\"\"\"\r\n",
      "            series = function(*args, **kwargs)\r\n",
      "            return series.isin(set(choices))\r\n",
      "\r\n",
      "        return wrapper\r\n",
      "\r\n",
      "    return decorator\r\n",
      "\r\n",
      "\r\n",
      "def bounded_length(low, high=None):\r\n",
      "    \"\"\"Test that the length of the data items fall within range: low <= x <= high.\r\n",
      "\r\n",
      "    If high is None, treat as exact length.\r\n",
      "    \"\"\"\r\n",
      "    def decorator(function):\r\n",
      "        \"\"\"Decorate a function with args.\"\"\"\r\n",
      "        @functools.wraps(function)\r\n",
      "        def wrapper(*args, **kwargs):\r\n",
      "            \"\"\"Wrap the function.\"\"\"\r\n",
      "            series = function(*args, **kwargs)\r\n",
      "            if high is None:\r\n",
      "                return series.apply(lambda x: len(x) == low)\r\n",
      "            else:\r\n",
      "                lo_pass = series.apply(lambda x: low <= len(x))\r\n",
      "                hi_pass = series.apply(lambda x: len(x) <= high)\r\n",
      "\r\n",
      "                return lo_pass & hi_pass\r\n",
      "\r\n",
      "        return wrapper\r\n",
      "\r\n",
      "    return decorator\r\n",
      "\r\n"
     ]
    }
   ],
   "source": [
    "!cat $v.decorators.__file__"
   ]
  },
  {
   "cell_type": "markdown",
   "metadata": {},
   "source": [
    "# Defining Columns\n",
    "\n",
    "Now that we have a few validator functions, its time to put together a representation of our table and use that object to help us get us a final data table that is in a form we like. We will start with `col1`."
   ]
  },
  {
   "cell_type": "code",
   "execution_count": 8,
   "metadata": {
    "ExecuteTime": {
     "end_time": "2017-11-17T14:46:45.381797Z",
     "start_time": "2017-11-17T14:46:45.359838Z"
    }
   },
   "outputs": [
    {
     "data": {
      "text/html": [
       "<div>\n",
       "<style scoped>\n",
       "    .dataframe tbody tr th:only-of-type {\n",
       "        vertical-align: middle;\n",
       "    }\n",
       "\n",
       "    .dataframe tbody tr th {\n",
       "        vertical-align: top;\n",
       "    }\n",
       "\n",
       "    .dataframe thead th {\n",
       "        text-align: right;\n",
       "    }\n",
       "</style>\n",
       "<table border=\"1\" class=\"dataframe\">\n",
       "  <thead>\n",
       "    <tr style=\"text-align: right;\">\n",
       "      <th></th>\n",
       "      <th>col1</th>\n",
       "      <th>col2</th>\n",
       "      <th>col3</th>\n",
       "      <th>col4</th>\n",
       "    </tr>\n",
       "  </thead>\n",
       "  <tbody>\n",
       "    <tr>\n",
       "      <th>0</th>\n",
       "      <td>7</td>\n",
       "      <td>3</td>\n",
       "      <td>10</td>\n",
       "      <td>male</td>\n",
       "    </tr>\n",
       "    <tr>\n",
       "      <th>1</th>\n",
       "      <td>2</td>\n",
       "      <td>4</td>\n",
       "      <td>6</td>\n",
       "      <td>m</td>\n",
       "    </tr>\n",
       "    <tr>\n",
       "      <th>2</th>\n",
       "      <td>6</td>\n",
       "      <td>6</td>\n",
       "      <td>2</td>\n",
       "      <td>F</td>\n",
       "    </tr>\n",
       "  </tbody>\n",
       "</table>\n",
       "</div>"
      ],
      "text/plain": [
       "   col1  col2  col3  col4\n",
       "0     7     3    10  male\n",
       "1     2     4     6     m\n",
       "2     6     6     2     F"
      ]
     },
     "execution_count": 8,
     "metadata": {},
     "output_type": "execute_result"
    }
   ],
   "source": [
    "df"
   ]
  },
  {
   "cell_type": "markdown",
   "metadata": {},
   "source": [
    "Lets say we don't care about `col2`; we want all the others though.\n",
    "\n",
    "We create a column object for each column we want that contains the name of the column we want to represent. We set the options to describe our ideal format. We set the values for each option for each column including a a list of validator functions that should all pass for all items in each column if we got our way.\n",
    "\n",
    "For now, we will ignore the `recoders` argument. What we end up with is the three column objects below."
   ]
  },
  {
   "cell_type": "code",
   "execution_count": 9,
   "metadata": {
    "ExecuteTime": {
     "end_time": "2017-11-17T14:46:45.785213Z",
     "start_time": "2017-11-17T14:46:45.503425Z"
    }
   },
   "outputs": [],
   "source": [
    "col1 = Column(name='col1',\n",
    "             dtype=np.int,\n",
    "             unique=False,\n",
    "             validators=[v.funcs.not_null, v.funcs.positive, bt_2_and_10],\n",
    "             recoders=None)\n",
    "\n",
    "col3 = Column(name='col3',\n",
    "             dtype=np.int,\n",
    "             unique=True,\n",
    "             validators=[v.funcs.not_null, v.funcs.positive, bt_2_and_10],\n",
    "             recoders=None)\n",
    "\n",
    "col4 = Column(name='col4',\n",
    "             dtype=str,\n",
    "             unique=False,\n",
    "             validators=[v.funcs.upper, length_is_one, valid_sex],\n",
    "             recoders=None)"
   ]
  },
  {
   "cell_type": "markdown",
   "metadata": {},
   "source": [
    "## Validating a Column object\n",
    "For each column object we store the validator functions in a `dict`.\n",
    "\n",
    "Here is the value for `col4`"
   ]
  },
  {
   "cell_type": "code",
   "execution_count": 10,
   "metadata": {
    "ExecuteTime": {
     "end_time": "2017-11-17T14:46:45.852613Z",
     "start_time": "2017-11-17T14:46:45.787013Z"
    }
   },
   "outputs": [
    {
     "data": {
      "text/plain": [
       "{'length_is_one': <function __main__.length_is_one>,\n",
       " 'upper': <function table_enforcer.validate.funcs.upper>,\n",
       " 'valid_sex': <function __main__.valid_sex>}"
      ]
     },
     "execution_count": 10,
     "metadata": {},
     "output_type": "execute_result"
    }
   ],
   "source": [
    "col4.validators"
   ]
  },
  {
   "cell_type": "markdown",
   "metadata": {},
   "source": [
    "We validate a column by passing our original dataframe to the column object. This means that the name argument we pass to our column object __must match the target column header EXACTLY__. The tests get run independently and after the column data is passed through each test, we get a dataframe of results.  We can see right away which data items fail which tests.\n",
    "\n",
    "This helps us plan our recoding efforts later. We can immediatly see what sorts of operations need to be run to convert those `False` tests to `True`."
   ]
  },
  {
   "cell_type": "code",
   "execution_count": 11,
   "metadata": {
    "ExecuteTime": {
     "end_time": "2017-11-17T14:46:45.962822Z",
     "start_time": "2017-11-17T14:46:45.854119Z"
    },
    "scrolled": false
   },
   "outputs": [
    {
     "data": {
      "text/html": [
       "<div>\n",
       "<style scoped>\n",
       "    .dataframe tbody tr th:only-of-type {\n",
       "        vertical-align: middle;\n",
       "    }\n",
       "\n",
       "    .dataframe tbody tr th {\n",
       "        vertical-align: top;\n",
       "    }\n",
       "\n",
       "    .dataframe thead th {\n",
       "        text-align: right;\n",
       "    }\n",
       "</style>\n",
       "<table border=\"1\" class=\"dataframe\">\n",
       "  <thead>\n",
       "    <tr style=\"text-align: right;\">\n",
       "      <th></th>\n",
       "      <th>length_is_one</th>\n",
       "      <th>upper</th>\n",
       "      <th>valid_sex</th>\n",
       "      <th>dtype</th>\n",
       "    </tr>\n",
       "  </thead>\n",
       "  <tbody>\n",
       "    <tr>\n",
       "      <th>0</th>\n",
       "      <td>False</td>\n",
       "      <td>False</td>\n",
       "      <td>False</td>\n",
       "      <td>True</td>\n",
       "    </tr>\n",
       "    <tr>\n",
       "      <th>1</th>\n",
       "      <td>True</td>\n",
       "      <td>False</td>\n",
       "      <td>False</td>\n",
       "      <td>True</td>\n",
       "    </tr>\n",
       "    <tr>\n",
       "      <th>2</th>\n",
       "      <td>True</td>\n",
       "      <td>True</td>\n",
       "      <td>True</td>\n",
       "      <td>True</td>\n",
       "    </tr>\n",
       "  </tbody>\n",
       "</table>\n",
       "</div>"
      ],
      "text/plain": [
       "   length_is_one  upper  valid_sex  dtype\n",
       "0          False  False      False   True\n",
       "1           True  False      False   True\n",
       "2           True   True       True   True"
      ]
     },
     "execution_count": 11,
     "metadata": {},
     "output_type": "execute_result"
    }
   ],
   "source": [
    "col4.validate(df)"
   ]
  },
  {
   "cell_type": "markdown",
   "metadata": {},
   "source": [
    "Wait a minute... Where did that validation test called `dtype` come from?\n",
    "\n",
    "Turns out we get that one for free since we defined that this column needs to be of `dtype` `np.int`. We get a similar `unique` validation check inserted if we set that option to `True`. "
   ]
  },
  {
   "cell_type": "markdown",
   "metadata": {},
   "source": [
    "# Recoder Functions\n",
    "\n",
    "Recoder functions have a very similar structure to validator functions. But their purpose is to coerce the raw data into a more useful form. For example `Col4` is obviously meant to represent 'male'/'female' logic. But we don't want to have to interpret all possible ways to represent that logic every time we want to use that column. So we write a recoder function to do convert all items to either \"M\" or \"F\" so we only need to understand two choices from now on."
   ]
  },
  {
   "cell_type": "code",
   "execution_count": 12,
   "metadata": {
    "ExecuteTime": {
     "end_time": "2017-11-17T14:46:46.129670Z",
     "start_time": "2017-11-17T14:46:46.107963Z"
    }
   },
   "outputs": [
    {
     "data": {
      "text/html": [
       "<div>\n",
       "<style scoped>\n",
       "    .dataframe tbody tr th:only-of-type {\n",
       "        vertical-align: middle;\n",
       "    }\n",
       "\n",
       "    .dataframe tbody tr th {\n",
       "        vertical-align: top;\n",
       "    }\n",
       "\n",
       "    .dataframe thead th {\n",
       "        text-align: right;\n",
       "    }\n",
       "</style>\n",
       "<table border=\"1\" class=\"dataframe\">\n",
       "  <thead>\n",
       "    <tr style=\"text-align: right;\">\n",
       "      <th></th>\n",
       "      <th>col1</th>\n",
       "      <th>col2</th>\n",
       "      <th>col3</th>\n",
       "      <th>col4</th>\n",
       "    </tr>\n",
       "  </thead>\n",
       "  <tbody>\n",
       "    <tr>\n",
       "      <th>0</th>\n",
       "      <td>7</td>\n",
       "      <td>3</td>\n",
       "      <td>10</td>\n",
       "      <td>male</td>\n",
       "    </tr>\n",
       "    <tr>\n",
       "      <th>1</th>\n",
       "      <td>2</td>\n",
       "      <td>4</td>\n",
       "      <td>6</td>\n",
       "      <td>m</td>\n",
       "    </tr>\n",
       "    <tr>\n",
       "      <th>2</th>\n",
       "      <td>6</td>\n",
       "      <td>6</td>\n",
       "      <td>2</td>\n",
       "      <td>F</td>\n",
       "    </tr>\n",
       "  </tbody>\n",
       "</table>\n",
       "</div>"
      ],
      "text/plain": [
       "   col1  col2  col3  col4\n",
       "0     7     3    10  male\n",
       "1     2     4     6     m\n",
       "2     6     6     2     F"
      ]
     },
     "execution_count": 12,
     "metadata": {},
     "output_type": "execute_result"
    }
   ],
   "source": [
    "df"
   ]
  },
  {
   "cell_type": "markdown",
   "metadata": {},
   "source": [
    "## Built-in Recoders\n",
    "\n",
    "Some recoder functions come built-in (See the `table_enforcer/recode/funcs.py` module code for current list)"
   ]
  },
  {
   "cell_type": "code",
   "execution_count": 13,
   "metadata": {
    "ExecuteTime": {
     "end_time": "2017-11-17T14:46:46.416018Z",
     "start_time": "2017-11-17T14:46:46.288494Z"
    }
   },
   "outputs": [
    {
     "name": "stdout",
     "output_type": "stream",
     "text": [
      "\"\"\"Provide builtin recoder functions for common use cases.\r\n",
      "\r\n",
      "Like validators, recoders take a single `pandas.Series` object as input and return\r\n",
      "a `pandas.Series` of the same shape and indexes as the original series object. However,\r\n",
      "instead of returning a series of `True`/`False` values, it performs some operation on\r\n",
      "the data that gets the column data closer to being how you want it to look during\r\n",
      "analysis operations.\r\n",
      "\"\"\"\r\n",
      "\r\n",
      "\r\n",
      "def upper(series):\r\n",
      "    \"\"\"Transform all text to uppercase.\"\"\"\r\n",
      "    return series.str.upper()\r\n",
      "\r\n",
      "\r\n",
      "def lower(series):\r\n",
      "    \"\"\"Transform all text to lowercase.\"\"\"\r\n",
      "    return series.str.lower()"
     ]
    }
   ],
   "source": [
    "!cat $r.funcs.__file__"
   ]
  },
  {
   "cell_type": "markdown",
   "metadata": {},
   "source": [
    "## Recoder Call Signatures\n",
    "\n",
    "Like validators, recoders take a single `pandas.Series` object as input and return a `pandas.Series` of the same shape and indexes as the original series object. However, instead of returning a series of `True`/`False` values, it performs some operation on the data that gets the column data closer to being how you want it to look during analysis operations.\n",
    "\n",
    "## Writing Custom Recoders\n",
    "\n",
    "### Recoders are Meant to be Composable\n",
    "\n",
    "You are able to build a single, monolithic recoder that transforms a column all the way into what you want in a single step. But it may be better to write recoders that perform only a single step on the way to getting a particular column into shape. \n",
    "\n",
    "This results in reusable functions that are \"composable\". Meaning that for the NEXT column, you may not even need to write a new function. All you may need to do is list a sequence of recoders that already exist. \n",
    "\n",
    "This is because, recoders are applied in a pipeline model.  The output from the first is supplied to the second etc.\n",
    "\n",
    "Now, lets write our recoders to transform `col4`."
   ]
  },
  {
   "cell_type": "code",
   "execution_count": 14,
   "metadata": {
    "ExecuteTime": {
     "end_time": "2017-11-17T14:46:46.477988Z",
     "start_time": "2017-11-17T14:46:46.452245Z"
    }
   },
   "outputs": [],
   "source": [
    "def standardize_sex(series):\n",
    "    \"\"\"Return a series where common representations of 'male'/'female' are standardized.\n",
    "    \n",
    "    Things like ['M', 'MALE', 'M', 'BOY', ...] are converted to `M`.\n",
    "    Representations of female are treated similarly. \n",
    "    \"\"\"\n",
    "    mapper = {\"M\": \"M\",\n",
    "              \"MALE\": \"M\",\n",
    "              \"BOY\": \"M\",\n",
    "              \"F\": \"F\",\n",
    "              \"FEMALE\": \"F\",\n",
    "              \"GIRL\": \"F\",\n",
    "             }\n",
    "    if series.str.islower().any():\n",
    "        raise ValueError(\"standardize_sex expects input series to contain only UPPERCASE letters.\")\n",
    "    else:\n",
    "        return series.apply(lambda x: mapper[x])"
   ]
  },
  {
   "cell_type": "markdown",
   "metadata": {},
   "source": [
    "Since we plan to call the built-in recoder `upper` first, we only need to support uppercase text here. This is kind of a silly requirement in practice but it demonstrates how you can write composable recoders to fail if expectations are not met."
   ]
  },
  {
   "cell_type": "markdown",
   "metadata": {},
   "source": [
    "## Next Iteration: Validate Recoded Table"
   ]
  },
  {
   "cell_type": "markdown",
   "metadata": {},
   "source": [
    "Lets revisit our original definition of `col4` and add the recoders we have now."
   ]
  },
  {
   "cell_type": "code",
   "execution_count": 15,
   "metadata": {
    "ExecuteTime": {
     "end_time": "2017-11-17T14:46:46.943826Z",
     "start_time": "2017-11-17T14:46:46.926628Z"
    }
   },
   "outputs": [],
   "source": [
    "col4 = Column(name='col4',\n",
    "             dtype=str,\n",
    "             unique=False,\n",
    "             validators=[v.funcs.upper, length_is_one, valid_sex],\n",
    "             recoders=[r.funcs.upper, standardize_sex])"
   ]
  },
  {
   "cell_type": "markdown",
   "metadata": {},
   "source": [
    "Now what do we have after we recode this column?"
   ]
  },
  {
   "cell_type": "code",
   "execution_count": 16,
   "metadata": {
    "ExecuteTime": {
     "end_time": "2017-11-17T14:46:47.111434Z",
     "start_time": "2017-11-17T14:46:47.090913Z"
    }
   },
   "outputs": [
    {
     "data": {
      "text/plain": [
       "0    M\n",
       "1    M\n",
       "2    F\n",
       "Name: col4, dtype: object"
      ]
     },
     "execution_count": 16,
     "metadata": {},
     "output_type": "execute_result"
    }
   ],
   "source": [
    "col4.recode(df)"
   ]
  },
  {
   "cell_type": "markdown",
   "metadata": {},
   "source": [
    "That looks pretty good. But let's not rely on our eyes and instead rely on the validation tests we defined. \n",
    "\n",
    "Now we try `col4.validate` again but this time tell it to perform recoding prior to validation and see what happens."
   ]
  },
  {
   "cell_type": "code",
   "execution_count": 17,
   "metadata": {
    "ExecuteTime": {
     "end_time": "2017-11-17T14:46:47.318238Z",
     "start_time": "2017-11-17T14:46:47.248761Z"
    }
   },
   "outputs": [
    {
     "data": {
      "text/html": [
       "<div>\n",
       "<style scoped>\n",
       "    .dataframe tbody tr th:only-of-type {\n",
       "        vertical-align: middle;\n",
       "    }\n",
       "\n",
       "    .dataframe tbody tr th {\n",
       "        vertical-align: top;\n",
       "    }\n",
       "\n",
       "    .dataframe thead th {\n",
       "        text-align: right;\n",
       "    }\n",
       "</style>\n",
       "<table border=\"1\" class=\"dataframe\">\n",
       "  <thead>\n",
       "    <tr style=\"text-align: right;\">\n",
       "      <th></th>\n",
       "      <th>length_is_one</th>\n",
       "      <th>upper</th>\n",
       "      <th>valid_sex</th>\n",
       "      <th>dtype</th>\n",
       "    </tr>\n",
       "  </thead>\n",
       "  <tbody>\n",
       "    <tr>\n",
       "      <th>0</th>\n",
       "      <td>True</td>\n",
       "      <td>True</td>\n",
       "      <td>True</td>\n",
       "      <td>True</td>\n",
       "    </tr>\n",
       "    <tr>\n",
       "      <th>1</th>\n",
       "      <td>True</td>\n",
       "      <td>True</td>\n",
       "      <td>True</td>\n",
       "      <td>True</td>\n",
       "    </tr>\n",
       "    <tr>\n",
       "      <th>2</th>\n",
       "      <td>True</td>\n",
       "      <td>True</td>\n",
       "      <td>True</td>\n",
       "      <td>True</td>\n",
       "    </tr>\n",
       "  </tbody>\n",
       "</table>\n",
       "</div>"
      ],
      "text/plain": [
       "   length_is_one  upper  valid_sex  dtype\n",
       "0           True   True       True   True\n",
       "1           True   True       True   True\n",
       "2           True   True       True   True"
      ]
     },
     "execution_count": 17,
     "metadata": {},
     "output_type": "execute_result"
    }
   ],
   "source": [
    "col4.validate(df, recode=True)"
   ]
  },
  {
   "cell_type": "markdown",
   "metadata": {},
   "source": [
    "We are good! We can now move on to our other columns and repeat the process until all the validation check pass on all of our columns. Then we can compose our `Enforcer` object and we will be nearing the end of our initial sanity check / recoding phase for this table. "
   ]
  },
  {
   "cell_type": "markdown",
   "metadata": {
    "ExecuteTime": {
     "end_time": "2017-11-14T22:36:25.371934Z",
     "start_time": "2017-11-14T22:36:25.347337Z"
    }
   },
   "source": [
    "# Defining Table Enforcers\n",
    "\n",
    "Just pass a list of the column objects we created to the `Enforcer`. The validation/recoding api for the `Enforcer` mirrors the one for `Columns` so you can reuse what we learned above."
   ]
  },
  {
   "cell_type": "code",
   "execution_count": 18,
   "metadata": {
    "ExecuteTime": {
     "end_time": "2017-11-17T14:46:47.587063Z",
     "start_time": "2017-11-17T14:46:47.568989Z"
    }
   },
   "outputs": [],
   "source": [
    "demo = Enforcer(columns=[col1,col3,col4])"
   ]
  },
  {
   "cell_type": "code",
   "execution_count": 19,
   "metadata": {
    "ExecuteTime": {
     "end_time": "2017-11-17T14:46:47.686017Z",
     "start_time": "2017-11-17T14:46:47.588918Z"
    }
   },
   "outputs": [
    {
     "data": {
      "text/plain": [
       "False"
      ]
     },
     "execution_count": 19,
     "metadata": {},
     "output_type": "execute_result"
    }
   ],
   "source": [
    "demo.validate(df)"
   ]
  },
  {
   "cell_type": "code",
   "execution_count": 20,
   "metadata": {
    "ExecuteTime": {
     "end_time": "2017-11-17T14:46:47.793490Z",
     "start_time": "2017-11-17T14:46:47.688303Z"
    }
   },
   "outputs": [
    {
     "data": {
      "text/html": [
       "<div>\n",
       "<style scoped>\n",
       "    .dataframe tbody tr th:only-of-type {\n",
       "        vertical-align: middle;\n",
       "    }\n",
       "\n",
       "    .dataframe tbody tr th {\n",
       "        vertical-align: top;\n",
       "    }\n",
       "\n",
       "    .dataframe thead th {\n",
       "        text-align: right;\n",
       "    }\n",
       "</style>\n",
       "<table border=\"1\" class=\"dataframe\">\n",
       "  <thead>\n",
       "    <tr style=\"text-align: right;\">\n",
       "      <th></th>\n",
       "      <th>col1</th>\n",
       "      <th>col3</th>\n",
       "      <th>col4</th>\n",
       "    </tr>\n",
       "  </thead>\n",
       "  <tbody>\n",
       "    <tr>\n",
       "      <th>0</th>\n",
       "      <td>7</td>\n",
       "      <td>10</td>\n",
       "      <td>M</td>\n",
       "    </tr>\n",
       "    <tr>\n",
       "      <th>1</th>\n",
       "      <td>2</td>\n",
       "      <td>6</td>\n",
       "      <td>M</td>\n",
       "    </tr>\n",
       "    <tr>\n",
       "      <th>2</th>\n",
       "      <td>6</td>\n",
       "      <td>2</td>\n",
       "      <td>F</td>\n",
       "    </tr>\n",
       "  </tbody>\n",
       "</table>\n",
       "</div>"
      ],
      "text/plain": [
       "   col1  col3 col4\n",
       "0     7    10    M\n",
       "1     2     6    M\n",
       "2     6     2    F"
      ]
     },
     "execution_count": 20,
     "metadata": {},
     "output_type": "execute_result"
    }
   ],
   "source": [
    "demo.recode(df)"
   ]
  },
  {
   "cell_type": "code",
   "execution_count": 21,
   "metadata": {
    "ExecuteTime": {
     "end_time": "2017-11-17T14:46:47.904507Z",
     "start_time": "2017-11-17T14:46:47.795693Z"
    }
   },
   "outputs": [
    {
     "data": {
      "text/plain": [
       "True"
      ]
     },
     "execution_count": 21,
     "metadata": {},
     "output_type": "execute_result"
    }
   ],
   "source": [
    "demo.validate(df, recode=True)"
   ]
  },
  {
   "cell_type": "markdown",
   "metadata": {},
   "source": [
    "## Writing loading functions that accept enforcers\n",
    "\n",
    "Use these enforcers to recode or validate recoded tables of the same kind as your source table wherever your applications use that type of data like in your loading functions."
   ]
  },
  {
   "cell_type": "code",
   "execution_count": 22,
   "metadata": {
    "ExecuteTime": {
     "end_time": "2017-11-17T14:46:47.993884Z",
     "start_time": "2017-11-17T14:46:47.906719Z"
    }
   },
   "outputs": [],
   "source": [
    "def load_csv(path, enforcer):\n",
    "    df = pd.read_csv(path)\n",
    "    \n",
    "    recoded = enforcer.recode(df)\n",
    "    \n",
    "    if enforcer.validate(recoded):\n",
    "        return recoded\n",
    "    else:\n",
    "        raise e.ValidationError()\n",
    "    "
   ]
  },
  {
   "cell_type": "code",
   "execution_count": 23,
   "metadata": {
    "ExecuteTime": {
     "end_time": "2017-11-17T14:46:48.097085Z",
     "start_time": "2017-11-17T14:46:47.995945Z"
    }
   },
   "outputs": [
    {
     "data": {
      "text/html": [
       "<div>\n",
       "<style scoped>\n",
       "    .dataframe tbody tr th:only-of-type {\n",
       "        vertical-align: middle;\n",
       "    }\n",
       "\n",
       "    .dataframe tbody tr th {\n",
       "        vertical-align: top;\n",
       "    }\n",
       "\n",
       "    .dataframe thead th {\n",
       "        text-align: right;\n",
       "    }\n",
       "</style>\n",
       "<table border=\"1\" class=\"dataframe\">\n",
       "  <thead>\n",
       "    <tr style=\"text-align: right;\">\n",
       "      <th></th>\n",
       "      <th>col1</th>\n",
       "      <th>col2</th>\n",
       "      <th>col3</th>\n",
       "      <th>col4</th>\n",
       "    </tr>\n",
       "  </thead>\n",
       "  <tbody>\n",
       "    <tr>\n",
       "      <th>0</th>\n",
       "      <td>7</td>\n",
       "      <td>3</td>\n",
       "      <td>10</td>\n",
       "      <td>male</td>\n",
       "    </tr>\n",
       "    <tr>\n",
       "      <th>1</th>\n",
       "      <td>2</td>\n",
       "      <td>4</td>\n",
       "      <td>6</td>\n",
       "      <td>m</td>\n",
       "    </tr>\n",
       "    <tr>\n",
       "      <th>2</th>\n",
       "      <td>6</td>\n",
       "      <td>6</td>\n",
       "      <td>2</td>\n",
       "      <td>F</td>\n",
       "    </tr>\n",
       "  </tbody>\n",
       "</table>\n",
       "</div>"
      ],
      "text/plain": [
       "   col1  col2  col3  col4\n",
       "0     7     3    10  male\n",
       "1     2     4     6     m\n",
       "2     6     6     2     F"
      ]
     },
     "execution_count": 23,
     "metadata": {},
     "output_type": "execute_result"
    }
   ],
   "source": [
    "df"
   ]
  },
  {
   "cell_type": "code",
   "execution_count": 24,
   "metadata": {
    "ExecuteTime": {
     "end_time": "2017-11-17T14:46:48.248768Z",
     "start_time": "2017-11-17T14:46:48.099289Z"
    }
   },
   "outputs": [
    {
     "data": {
      "text/html": [
       "<div>\n",
       "<style scoped>\n",
       "    .dataframe tbody tr th:only-of-type {\n",
       "        vertical-align: middle;\n",
       "    }\n",
       "\n",
       "    .dataframe tbody tr th {\n",
       "        vertical-align: top;\n",
       "    }\n",
       "\n",
       "    .dataframe thead th {\n",
       "        text-align: right;\n",
       "    }\n",
       "</style>\n",
       "<table border=\"1\" class=\"dataframe\">\n",
       "  <thead>\n",
       "    <tr style=\"text-align: right;\">\n",
       "      <th></th>\n",
       "      <th>col1</th>\n",
       "      <th>col3</th>\n",
       "      <th>col4</th>\n",
       "    </tr>\n",
       "  </thead>\n",
       "  <tbody>\n",
       "    <tr>\n",
       "      <th>0</th>\n",
       "      <td>7</td>\n",
       "      <td>10</td>\n",
       "      <td>M</td>\n",
       "    </tr>\n",
       "    <tr>\n",
       "      <th>1</th>\n",
       "      <td>2</td>\n",
       "      <td>6</td>\n",
       "      <td>M</td>\n",
       "    </tr>\n",
       "    <tr>\n",
       "      <th>2</th>\n",
       "      <td>6</td>\n",
       "      <td>2</td>\n",
       "      <td>F</td>\n",
       "    </tr>\n",
       "  </tbody>\n",
       "</table>\n",
       "</div>"
      ],
      "text/plain": [
       "   col1  col3 col4\n",
       "0     7    10    M\n",
       "1     2     6    M\n",
       "2     6     2    F"
      ]
     },
     "execution_count": 24,
     "metadata": {},
     "output_type": "execute_result"
    }
   ],
   "source": [
    "df2 = load_csv(path=\"demo_table.csv\", enforcer=demo)\n",
    "df2"
   ]
  }
 ],
 "metadata": {
  "kernelspec": {
   "display_name": "table_enforcer",
   "language": "python",
   "name": "table_enforcer"
  },
  "toc": {
   "nav_menu": {},
   "number_sections": true,
   "sideBar": true,
   "skip_h1_title": false,
   "toc_cell": false,
   "toc_position": {
    "height": "1111px",
    "left": "0px",
    "right": "2145px",
    "top": "207px",
    "width": "415px"
   },
   "toc_section_display": "block",
   "toc_window_display": true
  }
 },
 "nbformat": 4,
 "nbformat_minor": 2
}
